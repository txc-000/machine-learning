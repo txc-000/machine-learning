{
  "nbformat": 4,
  "nbformat_minor": 0,
  "metadata": {
    "colab": {
      "provenance": [],
      "toc_visible": true,
      "authorship_tag": "ABX9TyMxgi56Hy1XaGHP6kK2ec9J",
      "include_colab_link": true
    },
    "kernelspec": {
      "name": "python3",
      "display_name": "Python 3"
    },
    "language_info": {
      "name": "python"
    }
  },
  "cells": [
    {
      "cell_type": "markdown",
      "metadata": {
        "id": "view-in-github",
        "colab_type": "text"
      },
      "source": [
        "<a href=\"https://colab.research.google.com/github/txc-000/machine-learning/blob/main/phyton1.ipynb\" target=\"_parent\"><img src=\"https://colab.research.google.com/assets/colab-badge.svg\" alt=\"Open In Colab\"/></a>"
      ]
    },
    {
      "cell_type": "code",
      "execution_count": 1,
      "metadata": {
        "colab": {
          "base_uri": "https://localhost:8080/"
        },
        "id": "0E5mE5ViDyS4",
        "outputId": "99318fdd-25d1-4c2a-cd3f-c9bb61187739"
      },
      "outputs": [
        {
          "output_type": "stream",
          "name": "stdout",
          "text": [
            "Hello, Python!\n",
            "umam\n",
            "umam\n"
          ]
        }
      ],
      "source": [
        "print(\"Hello, Python!\")\n",
        "print(\"umam\")\n",
        "print('umam')"
      ]
    },
    {
      "cell_type": "code",
      "source": [
        "#Clue\n",
        "print(\"Programming\",\"Essentials\",\"in\")\n",
        "print(\"Python\")"
      ],
      "metadata": {
        "colab": {
          "base_uri": "https://localhost:8080/"
        },
        "id": "Vsi_0l0xD0hz",
        "outputId": "f3cb58e6-aa6b-46a2-fa52-ff963ff91ec7"
      },
      "execution_count": 2,
      "outputs": [
        {
          "output_type": "stream",
          "name": "stdout",
          "text": [
            "Programming Essentials in\n",
            "Python\n"
          ]
        }
      ]
    },
    {
      "cell_type": "code",
      "source": [
        "#Programming***Essentials***in...PythonPython\n",
        "\n",
        "print(\"Programming\",\"Essentials\",\"in\", sep=\"***\", end=\"...\")\n",
        "print(\"Python\"*2)"
      ],
      "metadata": {
        "colab": {
          "base_uri": "https://localhost:8080/"
        },
        "id": "_2vFTHXHY0sd",
        "outputId": "ff23e4ce-6322-4e96-9125-a8efec4c4fbd"
      },
      "execution_count": 3,
      "outputs": [
        {
          "output_type": "stream",
          "name": "stdout",
          "text": [
            "Programming***Essentials***in...PythonPython\n"
          ]
        }
      ]
    },
    {
      "cell_type": "code",
      "source": [
        "#clue\n",
        "\n",
        "print(\"    *    \"*2)\n",
        "print(\"   * *   \"*2)\n",
        "print(\"  *   *  \"*2)\n",
        "print(\" *     * \"*2)\n",
        "print(\"***   ***\"*2)\n",
        "print(\"  *   *  \"*2)\n",
        "print(\"  *   *  \"*2)\n",
        "print(\"  *****  \"*2)"
      ],
      "metadata": {
        "colab": {
          "base_uri": "https://localhost:8080/"
        },
        "id": "FbXhIA5aZA1c",
        "outputId": "ae6a5942-9594-44e0-c38e-7e7ee24ca427"
      },
      "execution_count": 4,
      "outputs": [
        {
          "output_type": "stream",
          "name": "stdout",
          "text": [
            "    *        *    \n",
            "   * *      * *   \n",
            "  *   *    *   *  \n",
            " *     *  *     * \n",
            "***   ******   ***\n",
            "  *   *    *   *  \n",
            "  *   *    *   *  \n",
            "  *****    *****  \n"
          ]
        }
      ]
    },
    {
      "cell_type": "code",
      "source": [
        "print(\"    *\\n   * *\\n  *   *\\n *     *\\n***   ***\\n  *   *\\n  *   *\\n  *****\\n\"*2)\n"
      ],
      "metadata": {
        "colab": {
          "base_uri": "https://localhost:8080/"
        },
        "id": "11eWwjITZHTz",
        "outputId": "344c5b6e-626c-4cbe-e90b-494d697414f9"
      },
      "execution_count": 5,
      "outputs": [
        {
          "output_type": "stream",
          "name": "stdout",
          "text": [
            "    *\n",
            "   * *\n",
            "  *   *\n",
            " *     *\n",
            "***   ***\n",
            "  *   *\n",
            "  *   *\n",
            "  *****\n",
            "    *\n",
            "   * *\n",
            "  *   *\n",
            " *     *\n",
            "***   ***\n",
            "  *   *\n",
            "  *   *\n",
            "  *****\n",
            "\n"
          ]
        }
      ]
    },
    {
      "cell_type": "code",
      "source": [
        "print('\"I\\'m\"\\n\"\"learning\"\"\\n\"\"\"Python\"\"\"')\n",
        "\n",
        "print(\"\"\"\n",
        "\"I'm\"\n",
        "\"\"learning\"\"\n",
        "\\\"\"\"Python\"\"\\\"\n",
        "\"\"\")"
      ],
      "metadata": {
        "colab": {
          "base_uri": "https://localhost:8080/"
        },
        "id": "V053UfcNZHeI",
        "outputId": "cb05fb05-9b5b-4c42-e1f7-a2a32eef86b5"
      },
      "execution_count": 6,
      "outputs": [
        {
          "output_type": "stream",
          "name": "stdout",
          "text": [
            "\"I'm\"\n",
            "\"\"learning\"\"\n",
            "\"\"\"Python\"\"\"\n",
            "\n",
            "\"I'm\"\n",
            "\"\"learning\"\"\n",
            "\"\"\"Python\"\"\"\n",
            "\n"
          ]
        }
      ]
    },
    {
      "cell_type": "code",
      "source": [
        "kilometer = 12.25\n",
        "mil = 7.38\n",
        "\n",
        "miles_to_kilometers = mil * 1.61\n",
        "kilometers_to_miles = kilometer / 1.61\n",
        "\n",
        "print(mil, \"1 mil adalah\", round(miles_to_kilometers, 2), \"kilometer\")\n",
        "print(kilometer, \"1 kilometer adalah\", round(kilometers_to_miles, 2), \"mil\")"
      ],
      "metadata": {
        "colab": {
          "base_uri": "https://localhost:8080/"
        },
        "id": "dhG0z7OrZHmy",
        "outputId": "e7054ef6-be7c-4ec0-fefc-617c0947803f"
      },
      "execution_count": 7,
      "outputs": [
        {
          "output_type": "stream",
          "name": "stdout",
          "text": [
            "7.38 1 mil adalah 11.88 kilometer\n",
            "12.25 1 kilometer adalah 7.61 mil\n"
          ]
        }
      ]
    },
    {
      "cell_type": "code",
      "source": [
        "# Hardcode nilai x untuk pengujian\n",
        "x = 0  # Ganti dengan 1 atau -1 untuk menguji kasus lainnya\n",
        "x = float(x)\n",
        "\n",
        "# Hitung nilai y berdasarkan persamaan 3x^3 - 2x^2 + 3x - 1\n",
        "y = 3 * x**3 - 2 * x**2 + 3 * x - 1\n",
        "\n",
        "# Cetak hasil\n",
        "print(\"y =\", y)"
      ],
      "metadata": {
        "colab": {
          "base_uri": "https://localhost:8080/"
        },
        "id": "1qYEJ5VdZHyc",
        "outputId": "e184a5ed-e019-4c42-f905-58180a3c0b86"
      },
      "execution_count": 12,
      "outputs": [
        {
          "output_type": "stream",
          "name": "stdout",
          "text": [
            "y = -1.0\n"
          ]
        }
      ]
    },
    {
      "cell_type": "code",
      "source": [
        "# Buat variabel dan isi nilai sesuai jumlah apel\n",
        "Darjo = 3\n",
        "Darno = 5\n",
        "Waginem = 6\n",
        "\n",
        "# Cetak nama variabel dan jumlah apel dalam 1 baris, pisahkan dengan koma\n",
        "print(f\"Darjo: {Darjo}, Darno: {Darno}, Waginem: {Waginem}\")\n",
        "\n",
        "# Buat variabel baru `totalApel` yang berisi penjumlahan seluruh apel\n",
        "totalApel = Darjo + Darno + Waginem\n",
        "print(f\"Total apel: {totalApel}\")\n",
        "\n",
        "# Otak-atik: Buat variabel baru dan lakukan operasi aritmetika lainnya\n",
        "# Misalnya, hitung rata-rata apel yang dimiliki\n",
        "rata_rata_apel = totalApel / 3\n",
        "print(f\"Rata-rata apel: {rata_rata_apel}\")\n",
        "\n",
        "# Misalnya, hitung selisih apel antara Waginem dan Darjo\n",
        "selisih_apel = Waginem - Darjo\n",
        "print(f\"Selisih apel Waginem dan Darjo: {selisih_apel}\")\n",
        "\n",
        "# Misalnya, hitung total apel jika setiap orang mendapatkan 2 apel lagi\n",
        "tambahan_apel = 2\n",
        "totalApel_baru = totalApel + (tambahan_apel * 3)\n",
        "print(f\"Total apel setelah ditambah 2 apel untuk setiap orang: {totalApel_baru}\")"
      ],
      "metadata": {
        "colab": {
          "base_uri": "https://localhost:8080/"
        },
        "id": "1Dy52_CHaC7F",
        "outputId": "55063b2c-55a0-44c2-df7b-0dd9a903c565"
      },
      "execution_count": 11,
      "outputs": [
        {
          "output_type": "stream",
          "name": "stdout",
          "text": [
            "Darjo: 3, Darno: 5, Waginem: 6\n",
            "Total apel: 14\n",
            "Rata-rata apel: 4.666666666666667\n",
            "Selisih apel Waginem dan Darjo: 3\n",
            "Total apel setelah ditambah 2 apel untuk setiap orang: 20\n"
          ]
        }
      ]
    },
    {
      "cell_type": "code",
      "source": [
        "# Masukkan nilai a dalam float\n",
        "a = float(input(\"Masukkan nilai a: \"))\n",
        "\n",
        "# Masukkan nilai b dalam float\n",
        "b = float(input(\"Masukkan nilai b: \"))\n",
        "\n",
        "# hitung hasil penambahan disini\n",
        "hasil_penambahan = a + b\n",
        "\n",
        "# hitung hasil pengurangan disini\n",
        "hasil_pengurangan = a - b\n",
        "\n",
        "# hitung hasil perkalian disini\n",
        "hasil_perkalian = a * b\n",
        "\n",
        "# hitung hasil pembagian disini\n",
        "hasil_pembagian = a / b\n",
        "\n",
        "# Menampilkan hasil\n",
        "print(f\"\\nHasil penambahan {a} + {b} = {hasil_penambahan}\")\n",
        "print(f\"Hasil pengurangan {a} - {b} = {hasil_pengurangan}\")\n",
        "print(f\"Hasil perkalian {a} * {b} = {hasil_perkalian}\")\n",
        "print(f\"Hasil pembagian {a} / {b} = {hasil_pembagian}\")\n",
        "\n",
        "print(\"\\nYeahhhh\")"
      ],
      "metadata": {
        "colab": {
          "base_uri": "https://localhost:8080/"
        },
        "id": "X4-HOOgwaC3s",
        "outputId": "49b1f644-bd8d-4670-a278-d567f4893e93"
      },
      "execution_count": 10,
      "outputs": [
        {
          "output_type": "stream",
          "name": "stdout",
          "text": [
            "Masukkan nilai a: 9\n",
            "Masukkan nilai b: 8\n",
            "\n",
            "Hasil penambahan 9.0 + 8.0 = 17.0\n",
            "Hasil pengurangan 9.0 - 8.0 = 1.0\n",
            "Hasil perkalian 9.0 * 8.0 = 72.0\n",
            "Hasil pembagian 9.0 / 8.0 = 1.125\n",
            "\n",
            "Yeahhhh\n"
          ]
        }
      ]
    },
    {
      "cell_type": "code",
      "source": [
        "# Hardcode nilai x untuk pengujian\n",
        "x = 10  # Ganti dengan 10 untuk menguji kasus lainnya\n",
        "x = float(x)\n",
        "\n",
        "# Hitung nilai y berdasarkan rumus\n",
        "y = 1 / (x + 1 / (x + 1 / (x + 1 / x)))\n",
        "\n",
        "# Cetak hasil\n",
        "print(\"y =\", y)"
      ],
      "metadata": {
        "colab": {
          "base_uri": "https://localhost:8080/"
        },
        "id": "UkxUtKU7cdOu",
        "outputId": "c35ef18b-8d5f-47b2-a584-18e63282c53f"
      },
      "execution_count": 14,
      "outputs": [
        {
          "output_type": "stream",
          "name": "stdout",
          "text": [
            "y = 0.09901951266867294\n"
          ]
        }
      ]
    }
  ]
}